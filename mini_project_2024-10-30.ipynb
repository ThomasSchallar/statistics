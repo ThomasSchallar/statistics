{
 "cells": [
  {
   "cell_type": "markdown",
   "id": "41f9c157-390b-47f3-a0f7-e5962c4acb24",
   "metadata": {},
   "source": [
    "# Supernovae Ia as standard candles\n",
    "## 1 Scientific background\n",
    "At the end of their lives, the most massive stars undergo a sudden collapse which leads to an explosion which can outshine entire galaxies, a supernova. Supernovae (SNe) are among the most powerful events in our universe. They release extreme amounts of energy as well as heavy elements which likely only form during SNe get ejected into space, enriching the ISM and creating building blocks for the formation of new stars.\n",
    "SNe are divided into Type I and Type II. The difference between them is the abscence of hydrogen (H) lines in the spectra of Type I SNe whereas Type II SNe contain obvious H lines."
   ]
  },
  {
   "cell_type": "markdown",
   "id": "d0efcc0e-1c6d-47d6-9e8d-4ca8ceb8bc51",
   "metadata": {},
   "source": [
    "<img src=\"https://astronomy.swin.edu.au/cms/cpg15x/albums/userpics/typeia1.jpg\">\n",
    "\n",
    "https://astronomy.swin.edu.au/cosmos/T/Type+Ia+Supernova"
   ]
  },
  {
   "cell_type": "markdown",
   "id": "1d6c7af3-91ee-4973-b727-d4742651276f",
   "metadata": {},
   "source": [
    "### Standard candles\n",
    "Astronomy is restricted to mostly studying objects from afar. For the most part this means astronomers can only observe the light an object gives them. An important question when you discover something is: \"How far away is it?\" And when the distances get so high that parallaxes are no longer of use it is up to the light to answer this question. And here standard candles come to benefit. Standard candles are astronomical objects which emit light with a known luminosity. And with this information you only have to measure the apparent luminosity, put it in the distance modulus formula and solve for $d$.\n",
    "\n",
    "$m-M=5\\cdot\\log_{10} (d) -5$\n",
    "\n",
    "where:\n",
    "- $m$ is the apparent magnitude,\n",
    "- $M$ is the absolute magnitude,\n",
    "- $d$ is the distance to the object in parsecs.\n",
    "\n",
    "An example for standard candles are cepheids which are pulsating stars that change their brightness with a well-defined stable period and amplitude.\n",
    "But at larger distances it is harder to make out single stars inside a galaxy and it demands brighter objects. SNe Ia are such objects. With typical peak luminosities of about $M_{B} = -19.5 \\text{mag}$ they can outshine galaxies. SNe Ia are characterized by a strong ionized silicon absorbtion in their spectra. A large fraction of observed SNe Ia (∼ 70%) is found to show remarkable homogeneity and a clear empirical relationship between light curve width and peak luminosity, the so-called \"Phillips relation\". These SNe Ia are commonly referred to as \"normal SNe Ia\" and have been used to determine cosmological parameters, which has led to the discovery of the accelerating expansion of the universe.\n",
    "### Supernovae Type Ia\n",
    "Sne Ia are widely thought to be thermonuclear explosions of white dwarfs in binary systems. However, there is no agreement on the fundamental aspects of the nature of the progenitor systems (i.e. the stars from which SNe Ia arise) and their explosion mechanism neither from theoretical nor observational side."
   ]
  },
  {
   "cell_type": "markdown",
   "id": "43eeb975-20d1-4284-b2df-c0a2e9a3bc46",
   "metadata": {},
   "source": [
    "<img src=\"https://www.schoolsobservatory.org/sites/default/files/discover/supernovaeproject/Type%20Ia.jpg\">\n",
    "\n",
    "https://www.schoolsobservatory.org/learn/astro/stars/cycle/ia_supernova"
   ]
  },
  {
   "cell_type": "markdown",
   "id": "5d376c70-426d-4407-a57e-fa19a12a2431",
   "metadata": {},
   "source": [
    "## References\n"
   ]
  }
 ],
 "metadata": {
  "kernelspec": {
   "display_name": "anaconda-panel-2023.05-py310",
   "language": "python",
   "name": "conda-env-anaconda-panel-2023.05-py310-py"
  },
  "language_info": {
   "codemirror_mode": {
    "name": "ipython",
    "version": 3
   },
   "file_extension": ".py",
   "mimetype": "text/x-python",
   "name": "python",
   "nbconvert_exporter": "python",
   "pygments_lexer": "ipython3",
   "version": "3.11.5"
  }
 },
 "nbformat": 4,
 "nbformat_minor": 5
}
