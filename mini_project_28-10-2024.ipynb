{
 "cells": [
  {
   "cell_type": "markdown",
   "id": "fa162060-eb0c-4cb9-922c-e23f1da31e90",
   "metadata": {},
   "source": [
    "# Supernovae Ia as standard candles\n",
    "## Scientific background\n",
    "At the end of their lives, the most massive stars undergo a sudden collapse which leads to an explosion which can outshine entire galaxies, a supernova. Supernovae (SNe) are among the most powerful events in our universe. They release extreme amounts of energy as well as heavy elements which likely only form during SNe get ejected into space, enriching the ISM and creating building blocks for the formation of new stars.\n",
    "SNe are divided into Type I and Type II. The difference between them is the abscence of hydrogen (H) lines in the spectra of Type I SNe whereas Type II SNe contain obvious H lines."
   ]
  },
  {
   "cell_type": "markdown",
   "id": "43eeb975-20d1-4284-b2df-c0a2e9a3bc46",
   "metadata": {},
   "source": [
    "<img src=\"supernova1.en.jpg\" width=\"300\">\n",
    "\n",
    "https://spaceplace.nasa.gov/supernova/en/"
   ]
  },
  {
   "cell_type": "markdown",
   "id": "d0efcc0e-1c6d-47d6-9e8d-4ca8ceb8bc51",
   "metadata": {},
   "source": [
    "<img src=\"https://astronomy.swin.edu.au/cms/cpg15x/albums/userpics/typeia1.jpg\">\n",
    "\n",
    "https://astronomy.swin.edu.au/cosmos/T/Type+Ia+Supernova"
   ]
  },
  {
   "cell_type": "markdown",
   "id": "d127e0d8-3aa7-44a6-a89d-e554f3be18ec",
   "metadata": {},
   "source": [
    "$a^2 + b^2 = c^2$"
   ]
  }
 ],
 "metadata": {
  "kernelspec": {
   "display_name": "anaconda-panel-2023.05-py310",
   "language": "python",
   "name": "conda-env-anaconda-panel-2023.05-py310-py"
  },
  "language_info": {
   "codemirror_mode": {
    "name": "ipython",
    "version": 3
   },
   "file_extension": ".py",
   "mimetype": "text/x-python",
   "name": "python",
   "nbconvert_exporter": "python",
   "pygments_lexer": "ipython3",
   "version": "3.11.5"
  }
 },
 "nbformat": 4,
 "nbformat_minor": 5
}
