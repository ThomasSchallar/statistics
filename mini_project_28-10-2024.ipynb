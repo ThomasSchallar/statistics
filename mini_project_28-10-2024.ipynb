{
 "cells": [
  {
   "cell_type": "markdown",
   "id": "fa162060-eb0c-4cb9-922c-e23f1da31e90",
   "metadata": {},
   "source": [
    "# Supernovae as standard candles\n",
    "## Scientific background\n",
    "At the end of their lives, the most massive stars undergo a sudden collapse which leads to an explosion which can outshine entire galaxies, a supernova. Supernovae (SNe) are among the most powerful events in our universe. They release extreme amounts of energy as well as heavy elements which likely only form during SNe get ejected into space, enriching the ISM and creating building blocks for the formation of new stars.\n",
    "SNe are divided into Type I and Type II. The difference between them is the abscence of hydrogen (H) lines in the spectra of Type I SNe whereas Type II SNe contain obvious H lines."
   ]
  },
  {
   "cell_type": "code",
   "execution_count": null,
   "id": "bcb60ab9-50be-4139-955a-8f5b60702f3a",
   "metadata": {},
   "outputs": [],
   "source": []
  },
  {
   "cell_type": "markdown",
   "id": "8c42778d-c438-4f6c-9f10-a94ef9df144e",
   "metadata": {},
   "source": [
    "$a^2 + b^2 = c^2$"
   ]
  },
  {
   "cell_type": "code",
   "execution_count": null,
   "id": "773d4d22-94f0-4b03-8b8e-b9bdf45d4d4f",
   "metadata": {},
   "outputs": [],
   "source": []
  }
 ],
 "metadata": {
  "kernelspec": {
   "display_name": "Python 3 (ipykernel)",
   "language": "python",
   "name": "python3"
  },
  "language_info": {
   "codemirror_mode": {
    "name": "ipython",
    "version": 3
   },
   "file_extension": ".py",
   "mimetype": "text/x-python",
   "name": "python",
   "nbconvert_exporter": "python",
   "pygments_lexer": "ipython3",
   "version": "3.10.12"
  }
 },
 "nbformat": 4,
 "nbformat_minor": 5
}
