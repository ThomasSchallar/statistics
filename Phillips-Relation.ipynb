{
 "cells": [
  {
   "cell_type": "code",
   "execution_count": 10,
   "metadata": {},
   "outputs": [
    {
     "name": "stderr",
     "output_type": "stream",
     "text": [
      "/tmp/ipykernel_6323/298767585.py:10: FutureWarning: The 'delim_whitespace' keyword in pd.read_csv is deprecated and will be removed in a future version. Use ``sep='\\s+'`` instead\n",
      "  df = pd.read_csv(file_path, delim_whitespace=True, header=None,\n"
     ]
    },
    {
     "ename": "UFuncTypeError",
     "evalue": "ufunc 'subtract' did not contain a loop with signature matching types (dtype('float64'), dtype('<U6')) -> None",
     "output_type": "error",
     "traceback": [
      "\u001b[0;31m---------------------------------------------------------------------------\u001b[0m",
      "\u001b[0;31mUFuncTypeError\u001b[0m                            Traceback (most recent call last)",
      "Cell \u001b[0;32mIn[10], line 55\u001b[0m\n\u001b[1;32m     53\u001b[0m results \u001b[38;5;241m=\u001b[39m []\n\u001b[1;32m     54\u001b[0m \u001b[38;5;28;01mfor\u001b[39;00m name, group \u001b[38;5;129;01min\u001b[39;00m grouped:\n\u001b[0;32m---> 55\u001b[0m     result \u001b[38;5;241m=\u001b[39m \u001b[43mprocess_sn\u001b[49m\u001b[43m(\u001b[49m\u001b[43mgroup\u001b[49m\u001b[43m)\u001b[49m\n\u001b[1;32m     56\u001b[0m     results\u001b[38;5;241m.\u001b[39mappend(result)\n\u001b[1;32m     58\u001b[0m \u001b[38;5;66;03m# Step 4: Create a summary DataFrame\u001b[39;00m\n",
      "Cell \u001b[0;32mIn[10], line 31\u001b[0m, in \u001b[0;36mprocess_sn\u001b[0;34m(group)\u001b[0m\n\u001b[1;32m     29\u001b[0m interp_func \u001b[38;5;241m=\u001b[39m interp1d(jd_array, bmag_array, kind\u001b[38;5;241m=\u001b[39m\u001b[38;5;124m'\u001b[39m\u001b[38;5;124mlinear\u001b[39m\u001b[38;5;124m'\u001b[39m, fill_value\u001b[38;5;241m=\u001b[39m\u001b[38;5;124m'\u001b[39m\u001b[38;5;124mextrapolate\u001b[39m\u001b[38;5;124m'\u001b[39m)\n\u001b[1;32m     30\u001b[0m b_15 \u001b[38;5;241m=\u001b[39m interp_func(target_JD)\n\u001b[0;32m---> 31\u001b[0m delta_m15 \u001b[38;5;241m=\u001b[39m \u001b[43mb_15\u001b[49m\u001b[43m \u001b[49m\u001b[38;5;241;43m-\u001b[39;49m\u001b[43m \u001b[49m\u001b[43mpeak_B_mag\u001b[49m\n\u001b[1;32m     33\u001b[0m \u001b[38;5;66;03m# Step 2.3: Apply the Phillips relation\u001b[39;00m\n\u001b[1;32m     34\u001b[0m M_B_0 \u001b[38;5;241m=\u001b[39m \u001b[38;5;241m-\u001b[39m\u001b[38;5;241m19.3\u001b[39m  \u001b[38;5;66;03m# Fiducial peak absolute magnitude\u001b[39;00m\n",
      "\u001b[0;31mUFuncTypeError\u001b[0m: ufunc 'subtract' did not contain a loop with signature matching types (dtype('float64'), dtype('<U6')) -> None"
     ]
    }
   ],
   "source": [
    "import pandas as pd\n",
    "from scipy.interpolate import interp1d\n",
    "\n",
    "# File containing the supernova data\n",
    "file_path = \"Supernova_Ia/table4.dat\"\n",
    "\n",
    "# Step 1: Read the file into a pandas DataFrame\n",
    "# Adjust `delim_whitespace=True` for space-separated values\n",
    "columns = [\"unimportant\", \"SN\", \"JD\", \"U_mag\", \"U_err\", \"B_mag\", \"B_err\", \"V_mag\", \"V_err\", \"R_mag\", \"R_err\", \"I_mag\", \"I_err\", \"Source\"]\n",
    "df = pd.read_csv(file_path, delim_whitespace=True, header=None, \n",
    "                 names=columns)\n",
    "\n",
    "# Step 2: Group data by supernova identifier\n",
    "grouped = df.groupby(\"SN\")\n",
    "\n",
    "# Define a function to process each supernova\n",
    "def process_sn(group):\n",
    "    # Step 2.1: Identify the peak magnitude\n",
    "    peak_index = group[\"B_mag\"].idxmin()\n",
    "    peak_B_mag = group.loc[peak_index, \"B_mag\"]\n",
    "    peak_JD = group.loc[peak_index, \"JD\"]\n",
    "    \n",
    "    # Step 2.2: Calculate B magnitude 15 days after the peak\n",
    "    target_JD = peak_JD + 15\n",
    "    jd_array = group[\"JD\"].values\n",
    "    bmag_array = group[\"B_mag\"].values\n",
    "    \n",
    "    # Interpolation function\n",
    "    interp_func = interp1d(jd_array, bmag_array, kind='linear', fill_value='extrapolate')\n",
    "    b_15 = interp_func(target_JD)\n",
    "    delta_m15 = b_15 - peak_B_mag\n",
    "    \n",
    "    # Step 2.3: Apply the Phillips relation\n",
    "    M_B_0 = -19.3  # Fiducial peak absolute magnitude\n",
    "    alpha = 0.7    # Phillips relation slope\n",
    "    M_B = M_B_0 + alpha * (delta_m15 - 1.1)\n",
    "    \n",
    "    # Step 2.4: Calculate distance modulus and distance\n",
    "    mu = peak_B_mag - M_B\n",
    "    distance_pc = 10 ** ((mu + 5) / 5)  # Distance in parsecs\n",
    "    distance_mpc = distance_pc / 1e6   # Distance in megaparsecs\n",
    "    \n",
    "    # Return results\n",
    "    return {\n",
    "        \"SN\": group[\"SN\"].iloc[0],\n",
    "        \"Peak_B_mag\": peak_B_mag,\n",
    "        \"Delta_m15\": delta_m15,\n",
    "        \"M_B\": M_B,\n",
    "        \"Distance_Mpc\": distance_mpc\n",
    "    }\n",
    "\n",
    "# Step 3: Process each supernova group and collect results\n",
    "results = []\n",
    "for name, group in grouped:\n",
    "    result = process_sn(group)\n",
    "    results.append(result)\n",
    "\n",
    "# Step 4: Create a summary DataFrame\n",
    "results_df = pd.DataFrame(results)\n",
    "\n",
    "# Save results to a CSV file\n",
    "results_df.to_csv(\"supernova_results.csv\", index=False)\n",
    "\n",
    "print(results_df)"
   ]
  }
 ],
 "metadata": {
  "kernelspec": {
   "display_name": "Python 3",
   "language": "python",
   "name": "python3"
  },
  "language_info": {
   "codemirror_mode": {
    "name": "ipython",
    "version": 3
   },
   "file_extension": ".py",
   "mimetype": "text/x-python",
   "name": "python",
   "nbconvert_exporter": "python",
   "pygments_lexer": "ipython3",
   "version": "3.12.1"
  }
 },
 "nbformat": 4,
 "nbformat_minor": 2
}
