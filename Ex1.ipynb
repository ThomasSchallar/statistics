{
 "cells": [
  {
   "cell_type": "markdown",
   "id": "9d5f715c-e561-494a-9b52-a236d5f66390",
   "metadata": {},
   "source": [
    "# Abstract: from a subset of Gaia data we had to identify a star cluster in a  given position using Topcat. From the data we had to derive attributes, like its position, distance and the approximate number of stars in it. The the star cluster we were looking for was the Pleiades.\n",
    "\n",
    "\n",
    "I started the first exercise by retrieving the required data from the Gaia Archive using the given ADQL query\n",
    "SELECT * FROM gaiaedr3.gaia_source WHERE parallax > 7\n",
    "That resulted in a „votable“ file (.vot) of 1.1GiB size. It contains 1.865.726 records. To retrieve the total number of entries in the Gaia Archive I used the ADQL query\n",
    "SELECT count(*) FROM gaiaedr3.gaia_source\n",
    "which gave me the total number of 1.811.709.771 records. That means, my subset from above represents just about one thousandth of the entire Gaia Catalog.\n",
    "After loading the data file into Topcat, I created a 2D plot using the RA and DEC values."
   ]
  },
  {
   "cell_type": "code",
   "execution_count": 1,
   "id": "3a30cb2a-bf21-4e1a-b0ea-8e53de1a30f9",
   "metadata": {},
   "outputs": [
    {
     "name": "stdout",
     "output_type": "stream",
     "text": [
      "123\n"
     ]
    }
   ],
   "source": [
    "x= 123\n",
    "print( x + 1 )"
   ]
  }
 ],
 "metadata": {
  "kernelspec": {
   "display_name": "Python 3 (ipykernel)",
   "language": "python",
   "name": "python3"
  },
  "language_info": {
   "codemirror_mode": {
    "name": "ipython",
    "version": 3
   },
   "file_extension": ".py",
   "mimetype": "text/x-python",
   "name": "python",
   "nbconvert_exporter": "python",
   "pygments_lexer": "ipython3",
   "version": "3.10.12"
  }
 },
 "nbformat": 4,
 "nbformat_minor": 5
}
